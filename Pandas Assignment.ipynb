{
 "cells": [
  {
   "cell_type": "markdown",
   "id": "ec6e5295-a97d-47d4-86d6-d1d7f53641cf",
   "metadata": {},
   "source": [
    "Consider following code to answer further questions:\n",
    "import pandas as pd\n",
    "course_name = [‘Data Science’, ‘Machine Learning’, ‘Big Data’, ‘Data Engineer’]\n",
    "duration =  [2,3,6,4]\n",
    "df = pd.DataFrame(data = {‘course_name’ : course_name, ‘duration’ : duration})"
   ]
  },
  {
   "cell_type": "markdown",
   "id": "efa912be-431c-4db3-a256-1408cc295743",
   "metadata": {},
   "source": [
    "Q1. Write a code to print the data present in the second row of the dataframe, df."
   ]
  },
  {
   "cell_type": "raw",
   "id": "b490b449-f8fd-4351-aeec-b7dda1792562",
   "metadata": {},
   "source": [
    "df.loc[1]"
   ]
  },
  {
   "cell_type": "markdown",
   "id": "0fe6d972-14b8-4bd8-a2a8-bf7bd4cf2012",
   "metadata": {},
   "source": [
    "Q2. What is the difference between the functions loc and iloc in pandas.DataFrame?"
   ]
  },
  {
   "cell_type": "markdown",
   "id": "c546e971-43d7-4f6b-ae27-47e7448a4101",
   "metadata": {},
   "source": [
    "In pandas, both loc and iloc are used to access and manipulate data in a DataFrame, but they differ in how they handle the selection of rows and columns:\n",
    "\n",
    "loc:\n",
    "loc is primarily label-based indexing. It is used to access rows and columns based on their labels (i.e., row and column names).\n",
    "When using loc, you need to specify the row and column labels explicitly.\n",
    "The syntax for accessing data using loc is df.loc[row_label, column_label].\n",
    "\n",
    "iloc:\n",
    "iloc stands for integer location and is used for positional indexing.\n",
    "It is used to access rows and columns based on their integer positions (i.e., numerical index).\n",
    "When using iloc, you need to specify the row and column indices explicitly.\n",
    "The syntax for accessing data using iloc is df.iloc[row_index, column_index]"
   ]
  },
  {
   "cell_type": "markdown",
   "id": "89f7dcca-1411-412b-a38d-93a74b3d0af9",
   "metadata": {},
   "source": [
    "Q3. Reindex the given dataframe using a variable, reindex = [3,0,1,2] and store it in the variable, new_df \n",
    "then find the output for both new_df.loc[2] and new_df.iloc[2].\n",
    "Consider the below code to answer further questions:\n",
    "import pandas as pd\n",
    "\n",
    "import numpy as np\n",
    "\n",
    "columns = ['column_1', 'column_2', 'column_3', 'column_4', 'column_5', 'column_6']\n",
    "\n",
    "indices = [1,2,3,4,5,6]\n",
    "\n",
    "#Creating a dataframe:\n",
    "\n",
    "df1 = pd.DataFrame(np.random.rand(6,6), columns = columns, index = indices"
   ]
  },
  {
   "cell_type": "code",
   "execution_count": 3,
   "id": "b0d91124-ed07-4afd-b5ec-d82984350f73",
   "metadata": {},
   "outputs": [
    {
     "name": "stdout",
     "output_type": "stream",
     "text": [
      "Output for new_df.loc[2]:\n",
      "column_1    0.186954\n",
      "column_2    0.780968\n",
      "column_3    0.308411\n",
      "column_4    0.922244\n",
      "column_5    0.926878\n",
      "column_6    0.171349\n",
      "Name: 2, dtype: float64\n",
      "\n",
      "Output for new_df.iloc[2]:\n",
      "column_1    0.656289\n",
      "column_2    0.324307\n",
      "column_3    0.855345\n",
      "column_4    0.439880\n",
      "column_5    0.007949\n",
      "column_6    0.678824\n",
      "Name: 1, dtype: float64\n"
     ]
    }
   ],
   "source": [
    "import pandas as pd\n",
    "import numpy as np\n",
    "\n",
    "columns = ['column_1', 'column_2', 'column_3', 'column_4', 'column_5', 'column_6']\n",
    "indices = [1, 2, 3, 4, 5, 6]\n",
    "\n",
    "# Creating a DataFrame:\n",
    "df1 = pd.DataFrame(np.random.rand(6, 6), columns=columns, index=indices)\n",
    "\n",
    "# Reindexing the DataFrame using the variable 'reindex'\n",
    "reindex = [3, 0, 1, 2]\n",
    "new_df = df1.reindex(reindex)\n",
    "\n",
    "# Output for new_df.loc[2]\n",
    "print(\"Output for new_df.loc[2]:\")\n",
    "print(new_df.loc[2])\n",
    "\n",
    "# Output for new_df.iloc[2]\n",
    "print(\"\\nOutput for new_df.iloc[2]:\")\n",
    "print(new_df.iloc[2])\n"
   ]
  },
  {
   "cell_type": "markdown",
   "id": "4b8fa9c1-adba-4ad1-bbc6-78071adfa2ad",
   "metadata": {},
   "source": [
    "Q4. Write a code to find the following statistical measurements for the above dataframe df1:\n",
    "(i) mean of each and every column present in the dataframe.\n",
    "(ii) standard deviation of column, ‘column_2’"
   ]
  },
  {
   "cell_type": "code",
   "execution_count": 4,
   "id": "a2661159-316f-4304-b14d-6461cd8e2b30",
   "metadata": {},
   "outputs": [
    {
     "name": "stdout",
     "output_type": "stream",
     "text": [
      "Mean of each column:\n",
      "column_1    0.376694\n",
      "column_2    0.289371\n",
      "column_3    0.454221\n",
      "column_4    0.659910\n",
      "column_5    0.532559\n",
      "column_6    0.375617\n",
      "dtype: float64\n",
      "\n",
      "Standard deviation of column 'column_2':\n",
      "0.3158025653000935\n"
     ]
    }
   ],
   "source": [
    "import pandas as pd\n",
    "import numpy as np\n",
    "\n",
    "columns = ['column_1', 'column_2', 'column_3', 'column_4', 'column_5', 'column_6']\n",
    "indices = [1, 2, 3, 4, 5, 6]\n",
    "\n",
    "# Creating the DataFrame\n",
    "df1 = pd.DataFrame(np.random.rand(6, 6), columns=columns, index=indices)\n",
    "\n",
    "# (i) Mean of each and every column present in the DataFrame\n",
    "column_means = df1.mean()\n",
    "print(\"Mean of each column:\")\n",
    "print(column_means)\n",
    "\n",
    "# (ii) Standard deviation of column 'column_2'\n",
    "column_2_std = df1['column_2'].std()\n",
    "print(\"\\nStandard deviation of column 'column_2':\")\n",
    "print(column_2_std)\n"
   ]
  },
  {
   "cell_type": "markdown",
   "id": "ab96f6f2-12c6-4da0-b035-ab3847ccf3a2",
   "metadata": {},
   "source": [
    "Q5. Replace the data present in the second row of column, ‘column_2’ by a string variable then find the \n",
    "mean of column, column_2.\n",
    "If you are getting errors in executing it then explain why.\n",
    "[Hint: To replace the data use df1.loc[] and equate this to string data of your choice.]"
   ]
  },
  {
   "cell_type": "code",
   "execution_count": 7,
   "id": "2e87e303-5f5d-4b60-ac55-efe8fe84ccfa",
   "metadata": {},
   "outputs": [
    {
     "name": "stdout",
     "output_type": "stream",
     "text": [
      "Error: unsupported operand type(s) for +: 'float' and 'str'\n"
     ]
    }
   ],
   "source": [
    "import pandas as pd\n",
    "import numpy as np\n",
    "\n",
    "columns = ['column_1', 'column_2', 'column_3', 'column_4', 'column_5', 'column_6']\n",
    "indices = [1, 2, 3, 4, 5, 6]\n",
    "\n",
    "# Creating the DataFrame\n",
    "df1 = pd.DataFrame(np.random.rand(6, 6), columns=columns, index=indices)\n",
    "\n",
    "# Replacing the data in the second row of 'column_2' with a string variable\n",
    "df1.loc[2, 'column_2'] = 'example_string'\n",
    "\n",
    "# Finding the mean of 'column_2'\n",
    "try:\n",
    "    column_2_mean = df1['column_2'].mean()\n",
    "    print(\"Mean of column 'column_2':\", column_2_mean)\n",
    "except Exception as e:\n",
    "    print(\"Error:\", e)\n"
   ]
  },
  {
   "cell_type": "markdown",
   "id": "0af9ee56-6548-483e-a14e-223a1dc2c400",
   "metadata": {},
   "source": [
    "Q6. What do you understand about the windows function in pandas and list the types of windows functions?"
   ]
  },
  {
   "cell_type": "markdown",
   "id": "6bcb596a-4e0a-4f43-931e-78c9b401fbdd",
   "metadata": {},
   "source": [
    "In pandas, the windows functions, also known as window or rolling functions, are a group of powerful tools used for data analysis and manipulation. These functions perform operations on a specific window of data within a DataFrame or a Series. The window is defined as a set of consecutive rows or elements in the data, and the function is applied to each window, producing a new Series or DataFrame with the result.\n",
    "\n",
    "Window functions are particularly useful when you want to calculate aggregate values or perform operations on sliding or overlapping windows of data. These functions allow you to compute rolling statistics, moving averages, cumulative sums, and more. They are commonly used in time series data analysis, signal processing, and other data-driven applications.\n",
    "\n",
    "The primary window functions available in pandas are:\n",
    "\n",
    "rolling(): This function is used to create a rolling view of the data. It allows you to define the window size and apply various aggregate functions like mean, sum, min, max, etc., to the data within that window.\n",
    "\n",
    "expanding(): The expanding function computes the cumulative aggregates over the entire data set up to the current row. It continuously grows the window from the start to the current row and applies aggregate functions to each expanded window.\n",
    "\n",
    "ewm(): The exponentially weighted moving average (EWMA) function computes weighted averages with exponentially decaying weights. It is used for smoothing and reducing the impact of older data points as the window expands."
   ]
  },
  {
   "cell_type": "markdown",
   "id": "3230e0b9-ea19-4af5-88ae-2055334888e9",
   "metadata": {},
   "source": [
    "Q7. Write a code to print only the current month and year at the time of answering this question.\n",
    "[Hint: Use pandas.datetime function]"
   ]
  },
  {
   "cell_type": "code",
   "execution_count": 8,
   "id": "6509f1ef-d3bc-4018-bfeb-eaa43946cedf",
   "metadata": {},
   "outputs": [
    {
     "name": "stdout",
     "output_type": "stream",
     "text": [
      "Current Month: 8\n",
      "Current Year: 2023\n"
     ]
    }
   ],
   "source": [
    "import datetime\n",
    "\n",
    "# Get the current date\n",
    "current_date = datetime.datetime.now()\n",
    "\n",
    "# Extract the current month and year\n",
    "current_month = current_date.month\n",
    "current_year = current_date.year\n",
    "\n",
    "# Print the current month and year\n",
    "print(\"Current Month:\", current_month)\n",
    "print(\"Current Year:\", current_year)\n"
   ]
  },
  {
   "cell_type": "markdown",
   "id": "d581b7da-a7e6-4706-97dc-fa1db6f0c8fb",
   "metadata": {},
   "source": [
    "Q8. Write a Python program that takes in two dates as input (in the format YYYY-MM-DD) and \n",
    "calculates the difference between them in days, hours, and minutes using Pandas time delta. The \n",
    "program should prompt the user to enter the dates and display the result.\n",
    "Did you observe any difference in both the outputs? If so then explain it."
   ]
  },
  {
   "cell_type": "code",
   "execution_count": 9,
   "id": "fcb660bb-9ce3-41cf-87a7-f68a911ad0a9",
   "metadata": {},
   "outputs": [
    {
     "name": "stdin",
     "output_type": "stream",
     "text": [
      "Enter the first date (YYYY-MM-DD):  2023-08-01\n",
      "Enter the second date (YYYY-MM-DD):  2023-09-02\n"
     ]
    },
    {
     "name": "stdout",
     "output_type": "stream",
     "text": [
      "Difference between the dates: 32 days, 0 hours, 0 minutes.\n"
     ]
    }
   ],
   "source": [
    "import pandas as pd\n",
    "\n",
    "def calculate_time_difference(date1, date2):\n",
    "    # Convert the input strings to pandas datetime objects\n",
    "    date1 = pd.to_datetime(date1, format='%Y-%m-%d')\n",
    "    date2 = pd.to_datetime(date2, format='%Y-%m-%d')\n",
    "\n",
    "    # Calculate the time difference using pandas time delta\n",
    "    time_difference = date2 - date1\n",
    "\n",
    "    # Extract the difference in days, hours, and minutes\n",
    "    days = time_difference.days\n",
    "    hours = time_difference.seconds // 3600\n",
    "    minutes = (time_difference.seconds // 60) % 60\n",
    "\n",
    "    return days, hours, minutes\n",
    "\n",
    "# Prompt the user to enter the dates\n",
    "date1_input = input(\"Enter the first date (YYYY-MM-DD): \")\n",
    "date2_input = input(\"Enter the second date (YYYY-MM-DD): \")\n",
    "\n",
    "# Calculate the time difference\n",
    "days_diff, hours_diff, minutes_diff = calculate_time_difference(date1_input, date2_input)\n",
    "\n",
    "# Display the result\n",
    "print(f\"Difference between the dates: {days_diff} days, {hours_diff} hours, {minutes_diff} minutes.\")\n",
    "'''\n",
    " Pandas' time delta considers both the date and time components, so it takes into account not only the difference in days but also the time difference. When you use Pandas' time delta, the difference between two dates can include a fraction of a day (for example, if the time difference between the two dates is not exactly a whole number of days). On the other hand, if you calculate the difference manually using integer division, it will give you only the whole number of days.\n",
    "'''"
   ]
  },
  {
   "cell_type": "markdown",
   "id": "97c1af5e-ef1b-4962-bd43-b47da96d2682",
   "metadata": {},
   "source": [
    "Q9. Write a Python program that reads a CSV file containing categorical data and converts a specified \n",
    "column to a categorical data type. The program should prompt the user to enter the file path, column \n",
    "name, and category order, and then display the sorted data."
   ]
  },
  {
   "cell_type": "code",
   "execution_count": null,
   "id": "7b33734f-1b6f-428d-a146-62f8f991c72a",
   "metadata": {},
   "outputs": [],
   "source": []
  },
  {
   "cell_type": "markdown",
   "id": "2953d9a1-ddfd-4bcb-9a2b-b6f96c9bf4f0",
   "metadata": {},
   "source": [
    "Q10. Write a Python program that reads a CSV file containing sales data for different products and \n",
    "visualizes the data using a stacked bar chart to show the sales of each product category over time. The \n",
    "program should prompt the user to enter the file path and display the chart."
   ]
  },
  {
   "cell_type": "code",
   "execution_count": null,
   "id": "3904dbed-2da5-444b-af9c-521fa51e79a1",
   "metadata": {},
   "outputs": [],
   "source": [
    "import pandas as pd\n",
    "\n",
    "def convert_column_to_categorical(df, column_name, category_order):\n",
    "    # Convert the specified column to categorical data type\n",
    "    df[column_name] = pd.Categorical(df[column_name], categories=category_order, ordered=True)\n",
    "    return df\n",
    "\n",
    "def main():\n",
    "    # Prompt the user to enter the file path\n",
    "    file_path = input(\"Enter the CSV file path: \")\n",
    "\n",
    "    # Read the CSV file into a DataFrame\n",
    "    try:\n",
    "        df = pd.read_csv(file_path)\n",
    "    except FileNotFoundError:\n",
    "        print(\"Error: File not found.\")\n",
    "        return\n",
    "\n",
    "    # Prompt the user to enter the column name and category order\n",
    "    column_name = input(\"Enter the column name to convert to categorical: \")\n",
    "    category_order = input(\"Enter the category order (comma-separated values): \").split(',')\n",
    "\n",
    "    # Convert the specified column to categorical data type\n",
    "    df = convert_column_to_categorical(df, column_name, category_order)\n",
    "\n",
    "    # Sort the DataFrame by the specified column\n",
    "    df_sorted = df.sort_values(by=column_name)\n",
    "\n",
    "    # Display the sorted data\n",
    "    print(\"\\nSorted Data:\")\n",
    "    print(df_sorted)\n",
    "\n",
    "if __name__ == \"__main__\":\n",
    "    main()\n"
   ]
  },
  {
   "cell_type": "markdown",
   "id": "718d683e-72f7-46bd-9228-bf7ef81a86cf",
   "metadata": {},
   "source": [
    "Q11. You are given a CSV file containing student data that includes the student ID and their test score. Write \n",
    "a Python program that reads the CSV file, calculates the mean, median, and mode of the test scores, and \n",
    "displays the results in a table.\n",
    "The program should do the followingM\n",
    "I Prompt the user to enter the file path of the CSV file containing the student dataR\n",
    "I Read the CSV file into a Pandas DataFrameR\n",
    "I Calculate the mean, median, and mode of the test scores using Pandas toolsR\n",
    "I Display the mean, median, and mode in a table.\n",
    "\n",
    "Assume the CSV file contains the following columnsM\n",
    "I Student ID: The ID of the studentR\n",
    "I Test Score: The score of the student's test.\n",
    "Example usage of the program:\n",
    "\n",
    "Enter the file path of the CSV file containing the student data: student_data.csv\n",
    "\n",
    "\n",
    "+-----------+--------+\n",
    "\n",
    "| Statistic | Value  |\n",
    "\n",
    "+-----------+--------+\n",
    "\n",
    "| Mean      | 79.6   |\n",
    "\n",
    "| Median    | 82     |\n",
    "\n",
    "| Mode      | 85, 90 |\n",
    "\n",
    "+-----------+--------+\n",
    "\n",
    "\n",
    "Assume that the CSV file student_data.csv contains the following data:\n",
    "\n",
    "Student ID,Test Score\n",
    "\n",
    "1,85\n",
    "\n",
    "2,90\n",
    "\n",
    "3,80\n",
    "\n",
    "4,75\n",
    "\n",
    "5,85\n",
    "\n",
    "6,82\n",
    "\n",
    "7,78\n",
    "\n",
    "8,85\n",
    "\n",
    "9,90\n",
    "\n",
    "10,85\n",
    "\n",
    "\n",
    "The program should calculate the mean, median, and mode of the test scores and display the results \n",
    "in a table."
   ]
  },
  {
   "cell_type": "code",
   "execution_count": null,
   "id": "4dd115fc-e322-4415-8ad4-82bbfdf07178",
   "metadata": {},
   "outputs": [],
   "source": [
    "import pandas as pd\n",
    "import matplotlib.pyplot as plt\n",
    "\n",
    "def plot_stacked_bar_chart(df):\n",
    "    # Group the data by product category and calculate the total sales for each category\n",
    "    category_sales = df.groupby('Product_Category')['Sales'].sum()\n",
    "\n",
    "    # Get the unique years from the 'Date' column\n",
    "    years = pd.to_datetime(df['Date']).dt.year.unique()\n",
    "\n",
    "    # Create a DataFrame to store the sales data for each category over time\n",
    "    sales_data = pd.DataFrame(columns=years)\n",
    "    for year in years:\n",
    "        sales_data[year] = df[df['Date'].str.contains(str(year))].groupby('Product_Category')['Sales'].sum()\n",
    "\n",
    "    # Plot the stacked bar chart\n",
    "    sales_data.plot(kind='bar', stacked=True, figsize=(10, 6))\n",
    "    plt.xlabel('Product Category')\n",
    "    plt.ylabel('Sales')\n",
    "    plt.title('Sales of Each Product Category Over Time')\n",
    "    plt.legend(title='Year', loc='upper left', bbox_to_anchor=(1, 1))\n",
    "\n",
    "    # Display the chart\n",
    "    plt.tight_layout()\n",
    "    plt.show()\n",
    "\n",
    "def main():\n",
    "    # Prompt the user to enter the file path\n",
    "    file_path = input(\"Enter the CSV file path: \")\n",
    "\n",
    "    # Read the CSV file into a DataFrame\n",
    "    try:\n",
    "        df = pd.read_csv(file_path)\n",
    "    except FileNotFoundError:\n",
    "        print(\"Error: File not found.\")\n",
    "        return\n",
    "\n",
    "    # Display the stacked bar chart\n",
    "    plot_stacked_bar_chart(df)\n",
    "\n",
    "if __name__ == \"__main__\":\n",
    "    main()\n"
   ]
  },
  {
   "cell_type": "code",
   "execution_count": null,
   "id": "7ac7978a-3c6b-462b-9ce2-3328ce354853",
   "metadata": {},
   "outputs": [],
   "source": []
  },
  {
   "cell_type": "code",
   "execution_count": null,
   "id": "69f1b6da-3d34-4a25-b0ea-44c6bbf57c4c",
   "metadata": {},
   "outputs": [],
   "source": []
  },
  {
   "cell_type": "code",
   "execution_count": null,
   "id": "0b9af108-fb55-49e3-970a-5f1bf5a6c32f",
   "metadata": {},
   "outputs": [],
   "source": []
  },
  {
   "cell_type": "code",
   "execution_count": null,
   "id": "bdae3238-0fef-43a2-8a9c-f11762e8939e",
   "metadata": {},
   "outputs": [],
   "source": []
  }
 ],
 "metadata": {
  "kernelspec": {
   "display_name": "Python 3 (ipykernel)",
   "language": "python",
   "name": "python3"
  },
  "language_info": {
   "codemirror_mode": {
    "name": "ipython",
    "version": 3
   },
   "file_extension": ".py",
   "mimetype": "text/x-python",
   "name": "python",
   "nbconvert_exporter": "python",
   "pygments_lexer": "ipython3",
   "version": "3.10.8"
  }
 },
 "nbformat": 4,
 "nbformat_minor": 5
}
